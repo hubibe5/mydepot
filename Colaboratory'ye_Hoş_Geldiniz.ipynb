 önceden eğitilmiş bir resim sınıflandırıcının üzerine bir Keras modeli inşa eder.\n",
        "- <a href=\"https://tensorflow.org/hub/tutorials/tf2_text_classification\">Metin Sınıflandırma</a>: IMDB'deki film yorumlarını <em>olumlu</em> veya <em>olumsuz</em> olarak sınıflandırır.\n",
        "- <a href=\"https://tensorflow.org/hub/tutorials/tf2_arbitrary_image_stylization\">Stil Aktarımı</a>: Resimler arasında stil aktarımı yapmak için derin öğrenmeyi kullanır.\n",
        "- <a href=\"https://tensorflow.org/hub/tutorials/retrieval_with_tf_hub_universal_encoder_qa\">Çok Dilli Evrensel Cümle Kodlayıcı Soru-Cevap</a>: SQuAD veri kümesinden soruları cevaplamak için bir makine öğrenimi modeli kullanır.\n",
        "- <a href=\"https://tensorflow.org/hub/tutorials/tweening_conv3d\">Video İnterpolasyonu</a>: Bir videonun ilk ve son karesi arasında ne olduğunu tahmin eder.\n"
      ]
    },
    {
      "cell_type": "code",
      "source": [
        "#10 elemanlı bir sıfır dizisi oluştur\n",
        "import numpy as np\n",
        "np.zeros(10)"
      ],
      "metadata": {
        "colab": {
          "base_uri": "https://localhost:8080/"
        },
        "id": "fMANfA3_cfAk",
        "outputId": "911591e7-5d45-4905-dc06-f9350ef4a3d4"
      },
      "execution_count": 6,
      "outputs": [
        {
          "output_type": "execute_result",
          "data": {
            "text/plain": [
              "array([0., 0., 0., 0., 0., 0., 0., 0., 0., 0.])"
            ]
          },
          "metadata": {},
          "execution_count": 6
        }
      ]
    },
    {
      "cell_type": "code",
      "source": [
        "#1'den 100'e kadar olan sayilardan bir dizi olustur\n",
        "arr=np.arange(1,101)\n",
        "arr"
      ],
      "metadata": {
        "colab": {
          "base_uri": "https://localhost:8080/"
        },
        "id": "MkTqOJ-ueO0Q",
        "outputId": "56a3b18c-0f34-49e0-e6e8-222aa1c2e0c2"
      },
      "execution_count": 11,
      "outputs": [
        {
          "output_type": "execute_result",
          "data": {
            "text/plain": [
              "array([  1,   2,   3,   4,   5,   6,   7,   8,   9,  10,  11,  12,  13,\n",
              "        14,  15,  16,  17,  18,  19,  20,  21,  22,  23,  24,  25,  26,\n",
              "        27,  28,  29,  30,  31,  32,  33,  34,  35,  36,  37,  38,  39,\n",
              "        40,  41,  42,  43,  44,  45,  46,  47,  48,  49,  50,  51,  52,\n",
              "        53,  54,  55,  56,  57,  58,  59,  60,  61,  62,  63,  64,  65,\n",
              "        66,  67,  68,  69,  70,  71,  72,  73,  74,  75,  76,  77,  78,\n",
              "        79,  80,  81,  82,  83,  84,  85,  86,  87,  88,  89,  90,  91,\n",
              "        92,  93,  94,  95,  96,  97,  98,  99, 100])"
            ]
          },
          "metadata": {},
          "execution_count": 11
        }
      ]
    },
    {
      "cell_type": "code",
      "source": [
        "#bir önceki dizinin ortalamsını hesapla\n",
        "np.mean(arr)"
      ],
      "metadata": {
        "colab": {
          "base_uri": "https://localhost:8080/"
        },
        "id": "CXe0IQkCeop9",
        "outputId": "81d60486-d7c4-452c-e372-8a79c93aaed6"
      },
      "execution_count": 13,
      "outputs": [
        {
          "output_type": "execute_result",
          "data": {
            "text/plain": [
              "50.5"
            ]
          },
          "metadata": {},
          "execution_count": 13
        }
      ]
    },
    {
      "cell_type": "code",
      "source": [
        "#10 elemanlı rastgele dizi olustur ve her elemanını 2 ile carp\n",
        "arr2=np.random.randint(1,11,10)\n",
        "arr2\n",
        "\n"
      ],
      "metadata": {
        "colab": {
          "base_uri": "https://localhost:8080/"
        },
        "id": "qJMDcetefGs5",
        "outputId": "c0f2949e-15c7-418c-d93f-a4503a678584"
      },
      "execution_count": 28,
      "outputs": [
        {
          "output_type": "execute_result",
          "data": {
            "text/plain": [
              "array([ 6,  7,  5,  2, 10,  4,  8,  4,  2,  3])"
            ]
          },
          "metadata": {},
          "execution_count": 28
        }
      ]
    },
    {
      "cell_type": "code",
      "source": [
        "arr2*2"
      ],
      "metadata": {
        "colab": {
          "base_uri": "https://localhost:8080/"
        },
        "id": "EmxdV7Hwf-Hz",
        "outputId": "9befdb1b-b335-4793-c0f5-f4e83cba76fd"
      },
      "execution_count": 29,
      "outputs": [
        {
          "output_type": "execute_result",
          "data": {
            "text/plain": [
              "array([12, 14, 10,  4, 20,  8, 16,  8,  4,  6])"
            ]
          },
          "metadata": {},
          "execution_count": 29
        }
      ]
    },
    {
      "cell_type": "code",
      "source": [
        "#bir diziden 3 e 3 lük bir matris olustur\n",
        "arr3=np.random.randint(1,11,9)\n",
        "arr3"
      ],
      "metadata": {
        "colab": {
          "base_uri": "https://localhost:8080/"
        },
        "id": "vmdSzICbg0KN",
        "outputId": "9a861247-8520-4a0e-d7b8-938f842c47d4"
      },
      "execution_count": 32,
      "outputs": [
        {
          "output_type": "execute_result",
          "data": {
            "text/plain": [
              "array([ 1,  6,  2,  6,  3,  7,  8,  1, 10])"
            ]
          },
          "metadata": {},
          "execution_count": 32
        }
      ]
    },
    {
      "cell_type": "code",
      "source": [
        "arr3.reshape(3,3)"
      ],
      "metadata": {
        "colab": {
          "base_uri": "https://localhost:8080/"
        },
        "id": "4Rr_3xPmhS_5",
        "outputId": "44c999fe-0942-4fbf-f5f2-ae41ed4bc259"
      },
      "execution_count": 33,
      "outputs": [
        {
          "output_type": "execute_result",
          "data": {
            "text/plain": [
              "array([[ 1,  6,  2],\n",
              "       [ 6,  3,  7],\n",
              "       [ 8,  1, 10]])"
            ]
          },
          "metadata": {},
          "execution_count": 33
        }
      ]
    },
    {
      "cell_type": "code",
      "source": [
        "#5e 5 boyutunda rastgele sayilardan olusan bir matris olustur\n",
        "matrix=np.random.randint(0,11,(5,5))\n",
        "matrix"
      ],
      "metadata": {
        "colab": {
          "base_uri": "https://localhost:8080/"
        },
        "id": "dRY32rLDhYwd",
        "outputId": "643570c9-e6a2-4cb4-ade9-833c2dbe6516"
      },
      "execution_count": 34,
      "outputs": [
        {
          "output_type": "execute_result",
          "data": {
            "text/plain": [
              "array([[ 8,  6,  7,  2,  6],\n",
              "       [ 8,  0,  1,  3,  2],\n",
              "       [ 9,  9,  1,  5,  7],\n",
              "       [ 0,  0,  1,  2,  8],\n",
              "       [10,  1,  4,  2,  8]])"
            ]
          },
          "metadata": {},
          "execution_count": 34
        }
      ]
    },
    {
      "cell_type": "code",
      "source": [
        "#bir önceki matristeki en büyük ve en küçük değerleri bul\n",
        "np.min(matrix)"
      ],
      "metadata": {
        "colab": {
          "base_uri": "https://localhost:8080/"
        },
        "id": "lH07CatEh0Bv",
        "outputId": "e1eebfff-3b42-49a7-f0af-b3c709bdb651"
      },
      "execution_count": 35,
      "outputs": [
        {
          "output_type": "execute_result",
          "data": {
            "text/plain": [
              "0"
            ]
          },
          "metadata": {},
          "execution_count": 35
        }
      ]
    },
    {
      "cell_type": "code",
      "source": [
        "np.max(matrix)"
      ],
      "metadata": {
        "colab": {
          "base_uri": "https://localhost:8080/"
        },
        "id": "aLvYprxXiIL-",
        "outputId": "df96b510-51ec-46df-e188-4e568be2c334"
      },
      "execution_count": 36,
      "outputs": [
        {
          "output_type": "execute_result",
          "data": {
            "text/plain": [
              "10"
            ]
          },
          "metadata": {},
          "execution_count": 36
        }
      ]
    },
    {
      "cell_type": "code",
      "source": [
        "# 3 e 3 lük 2 matris olustur ve birbiriyle carp(normalde olan matris carpımını da yapacagım)\n",
        "matrix1=np.random.randint(0,101,(3,3))\n",
        "matrix2=np.random.randint(0,201,(3,3))\n",
        "matrix1"
      ],
      "metadata": {
        "colab": {
          "base_uri": "https://localhost:8080/"
        },
        "id": "BFoMYFo_iNYY",
        "outputId": "9a305c4b-cd4e-46cb-98a4-a97f6c48d39e"
      },
      "execution_count": 37,
      "outputs": [
        {
          "output_type": "execute_result",
          "data": {
            "text/plain": [
              "array([[40, 10, 79],\n",
              "       [25, 98, 60],\n",
              "       [51, 82, 60]])"
            ]
          },
          "metadata": {},
          "execution_count": 37
        }
      ]
    },
    {
      "cell_type": "code",
      "source": [
        "matrix2"
      ],
      "metadata": {
        "colab": {
          "base_uri": "https://localhost:8080/"
        },
        "id": "7dQ2S9YsipWH",
        "outputId": "fa322fa8-900f-4d50-80a7-f2c330f60534"
      },
      "execution_count": 38,
      "outputs": [
        {
          "output_type": "execute_result",
          "data": {
            "text/plain": [
              "array([[158,  12, 177],\n",
              "       [147, 158,  58],\n",
              "       [ 33, 181,   1]])"
            ]
          },
          "metadata": {},
          "execution_count": 38
        }
      ]
    },
    {
      "cell_type": "code",
      "source": [
        "matrix1*matrix2\n"
      ],
      "metadata": {
        "colab": {
          "base_uri": "https://localhost:8080/"
        },
        "id": "Avxd_KuKirqA",
        "outputId": "37be5fc6-e27b-4633-c402-726bdeb35738"
      },
      "execution_count": 39,
      "outputs": [
        {
          "output_type": "execute_result",
          "data": {
            "text/plain": [
              "array([[ 6320,   120, 13983],\n",
              "       [ 3675, 15484,  3480],\n",
              "       [ 1683, 14842,    60]])"
            ]
          },
          "metadata": {},
          "execution_count": 39
        }
      ]
    },
    {
      "cell_type": "code",
      "source": [
        "matrixproduct=matrix1@matrix2\n",
        "matrixproduct\n"
      ],
      "metadata": {
        "colab": {
          "base_uri": "https://localhost:8080/"
        },
        "id": "a2KJI84-jTAE",
        "outputId": "da9e1b55-e45a-48ab-b72c-8565bae55ee2"
      },
      "execution_count": 40,
      "outputs": [
        {
          "output_type": "execute_result",
          "data": {
            "text/plain": [
              "array([[10397, 16359,  7739],\n",
              "       [20336, 26644, 10169],\n",
              "       [22092, 24428, 13843]])"
            ]
          },
          "metadata": {},
          "execution_count": 40
        }
      ]
    },
    {
      "cell_type": "code",
      "source": [
        "#1'den 25'e kadar olan sayıları bir diziye 5-5 bir matrise cevir ve 3.satırı al\n",
        "arr4=np.arange(1,26)\n",
        "arr4"
      ],
      "metadata": {
        "colab": {
          "base_uri": "https://localhost:8080/"
        },
        "id": "LZDklx2xj5zx",
        "outputId": "ffa4c2b6-8687-4381-f244-422f4fb544f6"
      },
      "execution_count": 42,
      "outputs": [
        {
          "output_type": "execute_result",
          "data": {
            "text/plain": [
              "array([ 1,  2,  3,  4,  5,  6,  7,  8,  9, 10, 11, 12, 13, 14, 15, 16, 17,\n",
              "       18, 19, 20, 21, 22, 23, 24, 25])"
            ]
          },
          "metadata": {},
          "execution_count": 42
        }
      ]
    },
    {
      "cell_type": "code",
      "source": [
        "matrix3=arr4.reshape(5,5)\n",
        "matrix3\n"
      ],
      "metadata": {
        "colab": {
          "base_uri": "https://localhost:8080/"
        },
        "id": "Lsqx2EDEkdvd",
        "outputId": "29776b1c-afa3-494e-9152-7e148f0f6c18"
      },
      "execution_count": 55,
      "outputs": [
        {
          "output_type": "execute_result",
          "data": {
            "text/plain": [
              "array([[ 1,  2,  3,  4,  5],\n",
              "       [ 6,  7,  8,  9, 10],\n",
              "       [11, 12, 13, 14, 15],\n",
              "       [16, 17, 18, 19, 20],\n",
              "       [21, 22, 23, 24, 25]])"
            ]
          },
          "metadata": {},
          "execution_count": 55
        }
      ]
    },
    {
      "cell_type": "code",
      "source": [
        "thirdcolum=matrix3[:,2:3]\n",
        "thirdcolum"
      ],
      "metadata": {
        "colab": {
          "base_uri": "https://localhost:8080/"
        },
        "id": "BVn-d0BYkhnG",
        "outputId": "6eb913cf-a7f2-49fb-8cfd-344036aeb3a8"
      },
      "execution_count": 57,
      "outputs": [
        {
          "output_type": "execute_result",
          "data": {
            "text/plain": [
              "array([[ 3],\n",
              "       [ 8],\n",
              "       [13],\n",
              "       [18],\n",
              "       [23]])"
            ]
          },
          "metadata": {},
          "execution_count": 57
        }
      ]
    },
    {
      "cell_type": "code",
      "source": [
        "#5-5 bir matrisin sadece köşelerindeki elemanları al\n",
        "arr5=([matrix[0,0],matrix[0,4],matrix[4,0],matrix[4,4]])\n",
        "arr5"
      ],
      "metadata": {
        "colab": {
          "base_uri": "https://localhost:8080/"
        },
        "id": "FLecu3U4nLz4",
        "outputId": "7bc4b2b1-d973-4289-92fc-b55e7e920325"
      },
      "execution_count": 59,
      "outputs": [
        {
          "output_type": "execute_result",
          "data": {
            "text/plain": [
              "[8, 6, 10, 8]"
            ]
          },
          "metadata": {},
          "execution_count": 59
        }
      ]
    },
    {
      "cell_type": "code",
      "source": [
        "#10 elemanlı bir dizi olustur ve sadece 5ten büyük olanları sec\n",
        "arr6=np.random.randint(0,11,10)\n",
        "arr6"
      ],
      "metadata": {
        "colab": {
          "base_uri": "https://localhost:8080/"
        },
        "id": "vZ8-xcNTopjS",
        "outputId": "e74208f6-4d66-4730-bb78-fe8d10358f19"
      },
      "execution_count": 60,
      "outputs": [
        {
          "output_type": "execute_result",
          "data": {
            "text/plain": [
              "array([8, 7, 3, 2, 9, 2, 0, 8, 7, 6])"
            ]
          },
          "metadata": {},
          "execution_count": 60
        }
      ]
    },
    {
      "cell_type": "code",
      "source": [
        "arr6[arr6>5]"
      ],
      "metadata": {
        "colab": {
          "base_uri": "https://localhost:8080/"
        },
        "id": "QI7i2USVpBIU",
        "outputId": "55a244d4-9204-4da9-c30a-442c3899042a"
      },
      "execution_count": 61,
      "outputs": [
        {
          "output_type": "execute_result",
          "data": {
            "text/plain": [
              "array([8, 7, 9, 8, 7, 6])"
            ]
          },
          "metadata": {},
          "execution_count": 61
        }
      ]
    },
    {
      "cell_type": "code",
      "source": [
        "#4-4lük bir matris olustur ve cift sayıları sıfır yap\n",
        "matrix4=np.random.randint(0,21,(4,4))\n",
        "matrix4"
      ],
      "metadata": {
        "colab": {
          "base_uri": "https://localhost:8080/"
        },
        "id": "CZpl24EkpO6g",
        "outputId": "552dd7fe-75e6-4859-b009-7503dda96754"
      },
      "execution_count": 62,
      "outputs": [
        {
          "output_type": "execute_result",
          "data": {
            "text/plain": [
              "array([[15, 20,  4,  5],\n",
              "       [ 4, 20, 14,  5],\n",
              "       [13, 12,  9, 10],\n",
              "       [14, 13,  1,  5]])"
            ]
          },
          "metadata": {},
          "execution_count": 62
        }
      ]
    },
    {
      "cell_type": "code",
      "source": [
        "matrix4[matrix4%2==0]=0\n",
        "matrix4"
      ],
      "metadata": {
        "colab": {
          "base_uri": "https://localhost:8080/"
        },
        "id": "6v40AHYhphNI",
        "outputId": "b605596b-ba3d-42df-a770-ed37e8a80622"
      },
      "execution_count": 63,
      "outputs": [
        {
          "output_type": "execute_result",
          "data": {
            "text/plain": [
              "array([[15,  0,  0,  5],\n",
              "       [ 0,  0,  0,  5],\n",
              "       [13,  0,  9,  0],\n",
              "       [ 0, 13,  1,  5]])"
            ]
          },
          "metadata": {},
          "execution_count": 63
        }
      ]
    },
    {
      "cell_type": "code",
      "source": [
        "#100 elelmanlı rastgele bir dizi oluştur ve standart sapmasını hesapla\n",
        "hundred=np.random.randint(0,101,100)\n",
        "hundred\n"
      ],
      "metadata": {
        "colab": {
          "base_uri": "https://localhost:8080/"
        },
        "id": "_r2UiyWxp1k7",
        "outputId": "f55554d4-301d-4822-edd9-f376c239080e"
      },
      "execution_count": 64,
      "outputs": [
        {
          "output_type": "execute_result",
          "data": {
            "text/plain": [
              "array([ 8, 75, 14, 69, 63, 75, 38, 98, 37, 89, 10, 83, 39, 62, 61, 34, 51,\n",
              "       52, 18, 38, 39, 97, 41, 97, 39, 80, 27, 12, 13, 63, 18,  7,  7, 87,\n",
              "       82, 98, 23, 86, 23, 55, 14, 92, 30, 98, 76, 83, 68, 89, 73, 88, 28,\n",
              "       47, 55, 61, 48, 84, 87, 98, 80, 11, 70,  3, 77, 14, 13, 49, 92, 25,\n",
              "       20, 52, 89, 77, 28, 73, 33, 87, 76, 68, 65, 92, 48, 56, 91, 50, 68,\n",
              "       11, 11, 28, 19, 27, 66, 43, 27, 86, 42, 12, 49, 24, 86, 26])"
            ]
          },
          "metadata": {},
          "execution_count": 64
        }
      ]
    },
    {
      "cell_type": "code",
      "source": [
        "np.std(hundred)"
      ],
      "metadata": {
        "colab": {
          "base_uri": "https://localhost:8080/"
        },
        "id": "-VWE5UHLqduf",
        "outputId": "230978db-9a9c-4813-bb21-2a88a9a88788"
      },
      "execution_count": 65,
      "outputs": [
        {
          "output_type": "execute_result",
          "data": {
            "text/plain": [
              "28.927528411532155"
            ]
          },
          "metadata": {},
          "execution_count": 65
        }
      ]
    },
    {
      "cell_type": "code",
      "source": [
        "#6-6lık bir matrisin satır bazında ortalamalarını bul\n",
        "matrix5=np.random.randint(0,21,(6,6))\n",
        "matrix5"
      ],
      "metadata": {
        "colab": {
          "base_uri": "https://localhost:8080/"
        },
        "id": "LQRXjDWIqmun",
        "outputId": "ce0b5aec-adae-4473-f473-4e96ebf08c71"
      },
      "execution_count": 66,
      "outputs": [
        {
          "output_type": "execute_result",
          "data": {
            "text/plain": [
              "array([[ 2,  9, 12,  2, 12, 11],\n",
              "       [ 5,  3,  3,  6,  6, 10],\n",
              "       [17, 13,  7,  1, 16, 17],\n",
              "       [17,  5,  6,  8,  9, 12],\n",
              "       [10,  7, 11,  5,  2, 15],\n",
              "       [ 1,  7,  5, 12, 14,  7]])"
            ]
          },
          "metadata": {},
          "execution_count": 66
        }
      ]
    },
    {
      "cell_type": "code",
      "source": [
        "np.mean(matrix5,axis=1)"
      ],
      "metadata": {
        "colab": {
          "base_uri": "https://localhost:8080/"
        },
        "id": "JrGbBC2irDMk",
        "outputId": "d4f86d8d-8a40-48f2-cddd-0390b7fe933d"
      },
      "execution_count": 67,
      "outputs": [
        {
          "output_type": "execute_result",
          "data": {
            "text/plain": [
              "array([ 8.        ,  5.5       , 11.83333333,  9.5       ,  8.33333333,\n",
              "        7.66666667])"
            ]
          },
          "metadata": {},
          "execution_count": 67
        }
      ]
    },
    {
      "cell_type": "code",
      "source": [
        "#arange linscape logspace il dizi olusturma\n",
        "arr7=np.linspace(0,100,5)\n",
        "arr7"
      ],
      "metadata": {
        "colab": {
          "base_uri": "https://localhost:8080/"
        },
        "id": "WICQRvEirVHL",
        "outputId": "360eca7b-b860-4894-f772-70822632bc9b"
      },
      "execution_count": 70,
      "outputs": [
        {
          "output_type": "execute_result",
          "data": {
            "text/plain": [
              "array([  0.,  25.,  50.,  75., 100.])"
            ]
          },
          "metadata": {},
          "execution_count": 70
        }
      ]
    },
    {
      "cell_type": "code",
      "source": [
        "arr8=np.arange(0,10001)\n",
        "arr8"
      ],
      "metadata": {
        "colab": {
          "base_uri": "https://localhost:8080/"
        },
        "id": "xfmxC0yksRT7",
        "outputId": "e3888a8b-ede5-4046-d075-442f3e3c460a"
      },
      "execution_count": 71,
      "outputs": [
        {
          "output_type": "execute_result",
          "data": {
            "text/plain": [
              "array([    0,     1,     2, ...,  9998,  9999, 10000])"
            ]
          },
          "metadata": {},
          "execution_count": 71
        }
      ]
    },
    {
      "cell_type": "code",
      "source": [
        "arr9=np.logspace(0,2,10)\n",
        "arr9"
      ],
      "metadata": {
        "colab": {
          "base_uri": "https://localhost:8080/"
        },
        "id": "QI1v0FaGsZwr",
        "outputId": "db392a02-c3e5-4cff-aedf-17862b162bbf"
      },
      "execution_count": 77,
      "outputs": [
        {
          "output_type": "execute_result",
          "data": {
            "text/plain": [
              "array([  1.        ,   1.66810054,   2.7825594 ,   4.64158883,\n",
              "         7.74263683,  12.91549665,  21.5443469 ,  35.93813664,\n",
              "        59.94842503, 100.        ])"
            ]
          },
          "metadata": {},
          "execution_count": 77
        }
      ]
    },
    {
      "cell_type": "code",
      "source": [
        "#5-5lik bir matris olustur ve her sütunun en büyük elemanını bul\n",
        "matrix6=np.random.randint(0,21,(5,5))\n",
        "matrix6"
      ],
      "metadata": {
        "colab": {
          "base_uri": "https://localhost:8080/"
        },
        "id": "4ME1WdYcuBFt",
        "outputId": "f08c8f86-3beb-41ca-e654-1744f3f87853"
      },
      "execution_count": 78,
      "outputs": [
        {
          "output_type": "execute_result",
          "data": {
            "text/plain": [
              "array([[15,  6,  1,  0, 14],\n",
              "       [ 3, 16, 17, 20,  1],\n",
              "       [ 4, 10, 14, 20, 18],\n",
              "       [14, 18,  7,  8,  3],\n",
              "       [ 7, 13,  0, 11, 17]])"
            ]
          },
          "metadata": {},
          "execution_count": 78
        }
      ]
    },
    {
      "cell_type": "code",
      "source": [
        "np.max(matrix6,axis=0)"
      ],
      "metadata": {
        "colab": {
          "base_uri": "https://localhost:8080/"
        },
        "id": "5QoR7lZSuY-r",
        "outputId": "ccfb5605-d3d9-4726-ee69-db2142d1a9a7"
      },
      "execution_count": 80,
      "outputs": [
        {
          "output_type": "execute_result",
          "data": {
            "text/plain": [
              "array([15, 18, 17, 20, 18])"
            ]
          },
          "metadata": {},
          "execution_count": 80
        }
      ]
    },
    {
      "cell_type": "code",
      "source": [
        "#8-8lik bir matris olustur ve sütun numarası cift olanları 0 yap\n",
        "matrix7=np.random.randint(0,51,(8,8))\n",
        "matrix7"
      ],
      "metadata": {
        "colab": {
          "base_uri": "https://localhost:8080/"
        },
        "id": "BQQaTXomujmJ",
        "outputId": "1ecc7665-5acd-40b5-9120-89b1b08ca400"
      },
      "execution_count": 99,
      "outputs": [
        {
          "output_type": "execute_result",
          "data": {
            "text/plain": [
              "array([[39, 43, 25,  2,  3, 38, 48, 46],\n",
              "       [10, 49, 13, 42, 16, 33, 24, 10],\n",
              "       [17,  3, 18,  1, 42, 10, 45,  3],\n",
              "       [22, 34, 36, 40, 27, 17, 46, 41],\n",
              "       [34, 46, 24, 31, 33, 39, 13, 33],\n",
              "       [ 2, 12, 21,  4,  0, 14, 47, 13],\n",
              "       [29, 18, 18, 36, 36, 24, 30, 21],\n",
              "       [21, 19, 19, 21,  1, 32, 45, 34]])"
            ]
          },
          "metadata": {},
          "execution_count": 99
        }
      ]
    },
    {
      "cell_type": "code",
      "source": [
        "matrix7[:,::2]=0\n",
        "matrix7"
      ],
      "metadata": {
        "colab": {
          "base_uri": "https://localhost:8080/"
        },
        "id": "0W9EZATFu5CB",
        "outputId": "8f481951-d017-4703-f0d0-adfabd0d29ef"
      },
      "execution_count": 102,
      "outputs": [
        {
          "output_type": "execute_result",
          "data": {
            "text/plain": [
              "array([[ 0, 43,  0,  2,  0, 38,  0, 46],\n",
              "       [ 0, 49,  0, 42,  0, 33,  0, 10],\n",
              "       [ 0,  3,  0,  1,  0, 10,  0,  3],\n",
              "       [ 0, 34,  0, 40,  0, 17,  0, 41],\n",
              "       [ 0, 46,  0, 31,  0, 39,  0, 33],\n",
              "       [ 0, 12,  0,  4,  0, 14,  0, 13],\n",
              "       [ 0, 18,  0, 36,  0, 24,  0, 21],\n",
              "       [ 0, 19,  0, 21,  0, 32,  0, 34]])"
            ]
          },
          "metadata": {},
          "execution_count": 102
        }
      ]
    }
  ],
  "metadata": {
    "colab": {
      "name": "Colaboratory'ye Hoş Geldiniz",
      "provenance": [],
      "include_colab_link": true
    },
    "kernelspec": {
      "display_name": "Python 3",
      "name": "python3"
    }
  },
  "nbformat": 4,
  "nbformat_minor": 0
}
